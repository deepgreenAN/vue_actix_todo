{
 "cells": [
  {
   "cell_type": "code",
   "execution_count": 1,
   "id": "8463b0e6",
   "metadata": {
    "ExecuteTime": {
     "end_time": "2021-10-03T14:42:52.236769Z",
     "start_time": "2021-10-03T14:42:51.566517Z"
    }
   },
   "outputs": [],
   "source": [
    "import requests\n",
    "import json\n",
    "import pprint"
   ]
  },
  {
   "cell_type": "markdown",
   "id": "4e83e33c",
   "metadata": {},
   "source": [
    "## todoデータについて "
   ]
  },
  {
   "cell_type": "markdown",
   "id": "dbf5501a",
   "metadata": {},
   "source": [
    "### データを挿入 "
   ]
  },
  {
   "cell_type": "code",
   "execution_count": 6,
   "id": "9944edac",
   "metadata": {
    "ExecuteTime": {
     "end_time": "2021-10-03T14:43:18.394787Z",
     "start_time": "2021-10-03T14:43:16.310360Z"
    }
   },
   "outputs": [
    {
     "data": {
      "text/plain": [
       "<Response [200]>"
      ]
     },
     "execution_count": 6,
     "metadata": {},
     "output_type": "execute_result"
    }
   ],
   "source": [
    "insert_todo_data = {\"todo\":\"目覚まし時計を止める\",\"user_name\":\"太郎\"}\n",
    "r = requests.post(\"http://localhost:8080/todo\", json=insert_todo_data)\n",
    "r"
   ]
  },
  {
   "cell_type": "code",
   "execution_count": 7,
   "id": "1565e984",
   "metadata": {
    "ExecuteTime": {
     "end_time": "2021-10-03T14:43:19.469916Z",
     "start_time": "2021-10-03T14:43:19.448971Z"
    }
   },
   "outputs": [
    {
     "name": "stdout",
     "output_type": "stream",
     "text": [
      "{'done': False,\n",
      " 'finish_datetime': None,\n",
      " 'register_datetime': '2021-10-03T14:43:18.371698',\n",
      " 'todo': '目覚まし時計を止める',\n",
      " 'todo_id': 3,\n",
      " 'user_name': '太郎'}\n"
     ]
    }
   ],
   "source": [
    "pprint.pprint(r.json())"
   ]
  },
  {
   "cell_type": "markdown",
   "id": "c3d44363",
   "metadata": {},
   "source": [
    "### データをロード(全員)"
   ]
  },
  {
   "cell_type": "code",
   "execution_count": 31,
   "id": "ff6bd80e",
   "metadata": {
    "ExecuteTime": {
     "end_time": "2021-10-03T17:06:29.268316Z",
     "start_time": "2021-10-03T17:06:26.808892Z"
    }
   },
   "outputs": [
    {
     "data": {
      "text/plain": [
       "<Response [200]>"
      ]
     },
     "execution_count": 31,
     "metadata": {},
     "output_type": "execute_result"
    }
   ],
   "source": [
    "r = requests.get(\"http://localhost:8080/todo?limit_num=50&done=false\")\n",
    "r"
   ]
  },
  {
   "cell_type": "code",
   "execution_count": 32,
   "id": "cd4cec9d",
   "metadata": {
    "ExecuteTime": {
     "end_time": "2021-10-03T17:06:31.541240Z",
     "start_time": "2021-10-03T17:06:31.439515Z"
    }
   },
   "outputs": [
    {
     "name": "stdout",
     "output_type": "stream",
     "text": [
      "[{'done': False,\n",
      "  'finish_datetime': None,\n",
      "  'register_datetime': '2021-10-03T14:42:57.495301',\n",
      "  'todo': 'シャワーを浴びる',\n",
      "  'todo_id': 1,\n",
      "  'user_name': '太郎'},\n",
      " {'done': False,\n",
      "  'finish_datetime': None,\n",
      "  'register_datetime': '2021-10-03T14:43:18.371698',\n",
      "  'todo': 'シャワーを浴びる',\n",
      "  'todo_id': 3,\n",
      "  'user_name': '太郎'},\n",
      " {'done': False,\n",
      "  'finish_datetime': None,\n",
      "  'register_datetime': '2021-10-03T16:18:20.293429',\n",
      "  'todo': 'aaa',\n",
      "  'todo_id': 4,\n",
      "  'user_name': None},\n",
      " {'done': False,\n",
      "  'finish_datetime': None,\n",
      "  'register_datetime': '2021-10-03T16:26:09.916803',\n",
      "  'todo': 'うううう',\n",
      "  'todo_id': 5,\n",
      "  'user_name': None},\n",
      " {'done': False,\n",
      "  'finish_datetime': None,\n",
      "  'register_datetime': '2021-10-03T16:29:35.743682',\n",
      "  'todo': 'ううう',\n",
      "  'todo_id': 6,\n",
      "  'user_name': None},\n",
      " {'done': False,\n",
      "  'finish_datetime': None,\n",
      "  'register_datetime': '2021-10-03T16:31:50.610741',\n",
      "  'todo': 'し',\n",
      "  'todo_id': 7,\n",
      "  'user_name': None},\n",
      " {'done': False,\n",
      "  'finish_datetime': None,\n",
      "  'register_datetime': '2021-10-03T16:38:46.664554',\n",
      "  'todo': 'ししし',\n",
      "  'todo_id': 8,\n",
      "  'user_name': None},\n",
      " {'done': False,\n",
      "  'finish_datetime': None,\n",
      "  'register_datetime': '2021-10-03T16:48:10.876078',\n",
      "  'todo': 'ししし',\n",
      "  'todo_id': 9,\n",
      "  'user_name': None},\n",
      " {'done': False,\n",
      "  'finish_datetime': None,\n",
      "  'register_datetime': '2021-10-03T16:52:50.562097',\n",
      "  'todo': 'あああ',\n",
      "  'todo_id': 10,\n",
      "  'user_name': None},\n",
      " {'done': False,\n",
      "  'finish_datetime': None,\n",
      "  'register_datetime': '2021-10-03T17:03:21.876348',\n",
      "  'todo': 'あああ',\n",
      "  'todo_id': 11,\n",
      "  'user_name': None},\n",
      " {'done': False,\n",
      "  'finish_datetime': None,\n",
      "  'register_datetime': '2021-10-03T17:04:16.343397',\n",
      "  'todo': 'うう',\n",
      "  'todo_id': 12,\n",
      "  'user_name': None}]\n"
     ]
    }
   ],
   "source": [
    "pprint.pprint(r.json())"
   ]
  },
  {
   "cell_type": "markdown",
   "id": "65d967b5",
   "metadata": {},
   "source": [
    "### データを更新 "
   ]
  },
  {
   "cell_type": "code",
   "execution_count": 9,
   "id": "add850db",
   "metadata": {
    "ExecuteTime": {
     "end_time": "2021-10-03T14:44:29.465781Z",
     "start_time": "2021-10-03T14:44:27.362394Z"
    }
   },
   "outputs": [
    {
     "data": {
      "text/plain": [
       "<Response [200]>"
      ]
     },
     "execution_count": 9,
     "metadata": {},
     "output_type": "execute_result"
    }
   ],
   "source": [
    "update_todo_data = {\"todo_id\":2, \"todo\":\"シャワーを浴びる\", \"done\":None}\n",
    "r = requests.put(\"http://localhost:8080/todo\", json=update_todo_data)\n",
    "r"
   ]
  },
  {
   "cell_type": "code",
   "execution_count": 10,
   "id": "18bc0c6b",
   "metadata": {
    "ExecuteTime": {
     "end_time": "2021-10-03T14:44:33.408234Z",
     "start_time": "2021-10-03T14:44:33.393272Z"
    }
   },
   "outputs": [
    {
     "name": "stdout",
     "output_type": "stream",
     "text": [
      "{'done': False,\n",
      " 'finish_datetime': None,\n",
      " 'register_datetime': '2021-10-03T14:42:57.495301',\n",
      " 'todo': 'シャワーを浴びる',\n",
      " 'todo_id': 1,\n",
      " 'user_name': '太郎'}\n"
     ]
    }
   ],
   "source": [
    "pprint.pprint(r.json())"
   ]
  },
  {
   "cell_type": "code",
   "execution_count": 16,
   "id": "6bc9fe22",
   "metadata": {
    "ExecuteTime": {
     "end_time": "2021-10-03T14:50:29.263511Z",
     "start_time": "2021-10-03T14:50:26.963658Z"
    }
   },
   "outputs": [
    {
     "data": {
      "text/plain": [
       "<Response [404]>"
      ]
     },
     "execution_count": 16,
     "metadata": {},
     "output_type": "execute_result"
    }
   ],
   "source": [
    "update_todo_data = {\"todo_id\":100, \"todo\":\"シャワーを浴びる\", \"done\":None}\n",
    "r = requests.put(\"http://localhost:8080/todo\", json=update_todo_data)\n",
    "r"
   ]
  },
  {
   "cell_type": "code",
   "execution_count": 17,
   "id": "196fc915",
   "metadata": {
    "ExecuteTime": {
     "end_time": "2021-10-03T14:50:31.257183Z",
     "start_time": "2021-10-03T14:50:31.236235Z"
    }
   },
   "outputs": [
    {
     "data": {
      "text/plain": [
       "\"not found query 'todo_id = 100' for update\""
      ]
     },
     "execution_count": 17,
     "metadata": {},
     "output_type": "execute_result"
    }
   ],
   "source": [
    "r.text"
   ]
  },
  {
   "cell_type": "code",
   "execution_count": 4,
   "id": "50b4cc96",
   "metadata": {
    "ExecuteTime": {
     "end_time": "2021-09-30T15:07:14.438853Z",
     "start_time": "2021-09-30T15:07:14.398963Z"
    }
   },
   "outputs": [
    {
     "data": {
      "text/plain": [
       "['__attrs__',\n",
       " '__bool__',\n",
       " '__class__',\n",
       " '__delattr__',\n",
       " '__dict__',\n",
       " '__dir__',\n",
       " '__doc__',\n",
       " '__enter__',\n",
       " '__eq__',\n",
       " '__exit__',\n",
       " '__format__',\n",
       " '__ge__',\n",
       " '__getattribute__',\n",
       " '__getstate__',\n",
       " '__gt__',\n",
       " '__hash__',\n",
       " '__init__',\n",
       " '__init_subclass__',\n",
       " '__iter__',\n",
       " '__le__',\n",
       " '__lt__',\n",
       " '__module__',\n",
       " '__ne__',\n",
       " '__new__',\n",
       " '__nonzero__',\n",
       " '__reduce__',\n",
       " '__reduce_ex__',\n",
       " '__repr__',\n",
       " '__setattr__',\n",
       " '__setstate__',\n",
       " '__sizeof__',\n",
       " '__str__',\n",
       " '__subclasshook__',\n",
       " '__weakref__',\n",
       " '_content',\n",
       " '_content_consumed',\n",
       " '_next',\n",
       " 'apparent_encoding',\n",
       " 'close',\n",
       " 'connection',\n",
       " 'content',\n",
       " 'cookies',\n",
       " 'elapsed',\n",
       " 'encoding',\n",
       " 'headers',\n",
       " 'history',\n",
       " 'is_permanent_redirect',\n",
       " 'is_redirect',\n",
       " 'iter_content',\n",
       " 'iter_lines',\n",
       " 'json',\n",
       " 'links',\n",
       " 'next',\n",
       " 'ok',\n",
       " 'raise_for_status',\n",
       " 'raw',\n",
       " 'reason',\n",
       " 'request',\n",
       " 'status_code',\n",
       " 'text',\n",
       " 'url']"
      ]
     },
     "execution_count": 4,
     "metadata": {},
     "output_type": "execute_result"
    }
   ],
   "source": [
    "dir(r)"
   ]
  },
  {
   "cell_type": "code",
   "execution_count": 18,
   "id": "d00b6ecb",
   "metadata": {
    "ExecuteTime": {
     "end_time": "2021-10-03T14:50:40.834579Z",
     "start_time": "2021-10-03T14:50:39.254799Z"
    }
   },
   "outputs": [
    {
     "ename": "JSONDecodeError",
     "evalue": "Expecting value: line 1 column 1 (char 0)",
     "output_type": "error",
     "traceback": [
      "\u001b[1;31m---------------------------------------------------------------------------\u001b[0m",
      "\u001b[1;31mJSONDecodeError\u001b[0m                           Traceback (most recent call last)",
      "\u001b[1;32m<ipython-input-18-bf7af5998460>\u001b[0m in \u001b[0;36m<module>\u001b[1;34m\u001b[0m\n\u001b[1;32m----> 1\u001b[1;33m \u001b[0mpprint\u001b[0m\u001b[1;33m.\u001b[0m\u001b[0mpprint\u001b[0m\u001b[1;33m(\u001b[0m\u001b[0mr\u001b[0m\u001b[1;33m.\u001b[0m\u001b[0mjson\u001b[0m\u001b[1;33m(\u001b[0m\u001b[1;33m)\u001b[0m\u001b[1;33m)\u001b[0m\u001b[1;33m\u001b[0m\u001b[1;33m\u001b[0m\u001b[0m\n\u001b[0m",
      "\u001b[1;32mc:\\users\\asami naoto\\anaconda3\\envs\\calc_py39\\lib\\site-packages\\requests\\models.py\u001b[0m in \u001b[0;36mjson\u001b[1;34m(self, **kwargs)\u001b[0m\n\u001b[0;32m    898\u001b[0m                     \u001b[1;31m# used.\u001b[0m\u001b[1;33m\u001b[0m\u001b[1;33m\u001b[0m\u001b[1;33m\u001b[0m\u001b[0m\n\u001b[0;32m    899\u001b[0m                     \u001b[1;32mpass\u001b[0m\u001b[1;33m\u001b[0m\u001b[1;33m\u001b[0m\u001b[0m\n\u001b[1;32m--> 900\u001b[1;33m         \u001b[1;32mreturn\u001b[0m \u001b[0mcomplexjson\u001b[0m\u001b[1;33m.\u001b[0m\u001b[0mloads\u001b[0m\u001b[1;33m(\u001b[0m\u001b[0mself\u001b[0m\u001b[1;33m.\u001b[0m\u001b[0mtext\u001b[0m\u001b[1;33m,\u001b[0m \u001b[1;33m**\u001b[0m\u001b[0mkwargs\u001b[0m\u001b[1;33m)\u001b[0m\u001b[1;33m\u001b[0m\u001b[1;33m\u001b[0m\u001b[0m\n\u001b[0m\u001b[0;32m    901\u001b[0m \u001b[1;33m\u001b[0m\u001b[0m\n\u001b[0;32m    902\u001b[0m     \u001b[1;33m@\u001b[0m\u001b[0mproperty\u001b[0m\u001b[1;33m\u001b[0m\u001b[1;33m\u001b[0m\u001b[0m\n",
      "\u001b[1;32mc:\\users\\asami naoto\\anaconda3\\envs\\calc_py39\\lib\\json\\__init__.py\u001b[0m in \u001b[0;36mloads\u001b[1;34m(s, cls, object_hook, parse_float, parse_int, parse_constant, object_pairs_hook, **kw)\u001b[0m\n\u001b[0;32m    344\u001b[0m             \u001b[0mparse_int\u001b[0m \u001b[1;32mis\u001b[0m \u001b[1;32mNone\u001b[0m \u001b[1;32mand\u001b[0m \u001b[0mparse_float\u001b[0m \u001b[1;32mis\u001b[0m \u001b[1;32mNone\u001b[0m \u001b[1;32mand\u001b[0m\u001b[1;33m\u001b[0m\u001b[1;33m\u001b[0m\u001b[0m\n\u001b[0;32m    345\u001b[0m             parse_constant is None and object_pairs_hook is None and not kw):\n\u001b[1;32m--> 346\u001b[1;33m         \u001b[1;32mreturn\u001b[0m \u001b[0m_default_decoder\u001b[0m\u001b[1;33m.\u001b[0m\u001b[0mdecode\u001b[0m\u001b[1;33m(\u001b[0m\u001b[0ms\u001b[0m\u001b[1;33m)\u001b[0m\u001b[1;33m\u001b[0m\u001b[1;33m\u001b[0m\u001b[0m\n\u001b[0m\u001b[0;32m    347\u001b[0m     \u001b[1;32mif\u001b[0m \u001b[0mcls\u001b[0m \u001b[1;32mis\u001b[0m \u001b[1;32mNone\u001b[0m\u001b[1;33m:\u001b[0m\u001b[1;33m\u001b[0m\u001b[1;33m\u001b[0m\u001b[0m\n\u001b[0;32m    348\u001b[0m         \u001b[0mcls\u001b[0m \u001b[1;33m=\u001b[0m \u001b[0mJSONDecoder\u001b[0m\u001b[1;33m\u001b[0m\u001b[1;33m\u001b[0m\u001b[0m\n",
      "\u001b[1;32mc:\\users\\asami naoto\\anaconda3\\envs\\calc_py39\\lib\\json\\decoder.py\u001b[0m in \u001b[0;36mdecode\u001b[1;34m(self, s, _w)\u001b[0m\n\u001b[0;32m    335\u001b[0m \u001b[1;33m\u001b[0m\u001b[0m\n\u001b[0;32m    336\u001b[0m         \"\"\"\n\u001b[1;32m--> 337\u001b[1;33m         \u001b[0mobj\u001b[0m\u001b[1;33m,\u001b[0m \u001b[0mend\u001b[0m \u001b[1;33m=\u001b[0m \u001b[0mself\u001b[0m\u001b[1;33m.\u001b[0m\u001b[0mraw_decode\u001b[0m\u001b[1;33m(\u001b[0m\u001b[0ms\u001b[0m\u001b[1;33m,\u001b[0m \u001b[0midx\u001b[0m\u001b[1;33m=\u001b[0m\u001b[0m_w\u001b[0m\u001b[1;33m(\u001b[0m\u001b[0ms\u001b[0m\u001b[1;33m,\u001b[0m \u001b[1;36m0\u001b[0m\u001b[1;33m)\u001b[0m\u001b[1;33m.\u001b[0m\u001b[0mend\u001b[0m\u001b[1;33m(\u001b[0m\u001b[1;33m)\u001b[0m\u001b[1;33m)\u001b[0m\u001b[1;33m\u001b[0m\u001b[1;33m\u001b[0m\u001b[0m\n\u001b[0m\u001b[0;32m    338\u001b[0m         \u001b[0mend\u001b[0m \u001b[1;33m=\u001b[0m \u001b[0m_w\u001b[0m\u001b[1;33m(\u001b[0m\u001b[0ms\u001b[0m\u001b[1;33m,\u001b[0m \u001b[0mend\u001b[0m\u001b[1;33m)\u001b[0m\u001b[1;33m.\u001b[0m\u001b[0mend\u001b[0m\u001b[1;33m(\u001b[0m\u001b[1;33m)\u001b[0m\u001b[1;33m\u001b[0m\u001b[1;33m\u001b[0m\u001b[0m\n\u001b[0;32m    339\u001b[0m         \u001b[1;32mif\u001b[0m \u001b[0mend\u001b[0m \u001b[1;33m!=\u001b[0m \u001b[0mlen\u001b[0m\u001b[1;33m(\u001b[0m\u001b[0ms\u001b[0m\u001b[1;33m)\u001b[0m\u001b[1;33m:\u001b[0m\u001b[1;33m\u001b[0m\u001b[1;33m\u001b[0m\u001b[0m\n",
      "\u001b[1;32mc:\\users\\asami naoto\\anaconda3\\envs\\calc_py39\\lib\\json\\decoder.py\u001b[0m in \u001b[0;36mraw_decode\u001b[1;34m(self, s, idx)\u001b[0m\n\u001b[0;32m    353\u001b[0m             \u001b[0mobj\u001b[0m\u001b[1;33m,\u001b[0m \u001b[0mend\u001b[0m \u001b[1;33m=\u001b[0m \u001b[0mself\u001b[0m\u001b[1;33m.\u001b[0m\u001b[0mscan_once\u001b[0m\u001b[1;33m(\u001b[0m\u001b[0ms\u001b[0m\u001b[1;33m,\u001b[0m \u001b[0midx\u001b[0m\u001b[1;33m)\u001b[0m\u001b[1;33m\u001b[0m\u001b[1;33m\u001b[0m\u001b[0m\n\u001b[0;32m    354\u001b[0m         \u001b[1;32mexcept\u001b[0m \u001b[0mStopIteration\u001b[0m \u001b[1;32mas\u001b[0m \u001b[0merr\u001b[0m\u001b[1;33m:\u001b[0m\u001b[1;33m\u001b[0m\u001b[1;33m\u001b[0m\u001b[0m\n\u001b[1;32m--> 355\u001b[1;33m             \u001b[1;32mraise\u001b[0m \u001b[0mJSONDecodeError\u001b[0m\u001b[1;33m(\u001b[0m\u001b[1;34m\"Expecting value\"\u001b[0m\u001b[1;33m,\u001b[0m \u001b[0ms\u001b[0m\u001b[1;33m,\u001b[0m \u001b[0merr\u001b[0m\u001b[1;33m.\u001b[0m\u001b[0mvalue\u001b[0m\u001b[1;33m)\u001b[0m \u001b[1;32mfrom\u001b[0m \u001b[1;32mNone\u001b[0m\u001b[1;33m\u001b[0m\u001b[1;33m\u001b[0m\u001b[0m\n\u001b[0m\u001b[0;32m    356\u001b[0m         \u001b[1;32mreturn\u001b[0m \u001b[0mobj\u001b[0m\u001b[1;33m,\u001b[0m \u001b[0mend\u001b[0m\u001b[1;33m\u001b[0m\u001b[1;33m\u001b[0m\u001b[0m\n",
      "\u001b[1;31mJSONDecodeError\u001b[0m: Expecting value: line 1 column 1 (char 0)"
     ]
    }
   ],
   "source": [
    "pprint.pprint(r.json())"
   ]
  },
  {
   "cell_type": "markdown",
   "id": "06246373",
   "metadata": {},
   "source": [
    "### データを削除 "
   ]
  },
  {
   "cell_type": "code",
   "execution_count": 19,
   "id": "658cf076",
   "metadata": {
    "ExecuteTime": {
     "end_time": "2021-10-03T14:51:00.251664Z",
     "start_time": "2021-10-03T14:50:58.167236Z"
    }
   },
   "outputs": [
    {
     "data": {
      "text/plain": [
       "<Response [200]>"
      ]
     },
     "execution_count": 19,
     "metadata": {},
     "output_type": "execute_result"
    }
   ],
   "source": [
    "r = requests.delete(\"http://localhost:8080/todo/2\")\n",
    "r"
   ]
  },
  {
   "cell_type": "markdown",
   "id": "7979840b",
   "metadata": {},
   "source": [
    "### データをロード(ユーザー指定) "
   ]
  },
  {
   "cell_type": "code",
   "execution_count": 20,
   "id": "8976aee9",
   "metadata": {
    "ExecuteTime": {
     "end_time": "2021-10-03T14:51:09.837032Z",
     "start_time": "2021-10-03T14:51:07.729671Z"
    }
   },
   "outputs": [],
   "source": [
    "r = requests.get(\"http://localhost:8080/todo/太郎?limit_num=5&done=false\")"
   ]
  },
  {
   "cell_type": "code",
   "execution_count": 21,
   "id": "42c94178",
   "metadata": {
    "ExecuteTime": {
     "end_time": "2021-10-03T14:51:10.804448Z",
     "start_time": "2021-10-03T14:51:10.780511Z"
    }
   },
   "outputs": [
    {
     "name": "stdout",
     "output_type": "stream",
     "text": [
      "[{'done': False,\n",
      "  'finish_datetime': None,\n",
      "  'register_datetime': '2021-10-03T14:42:57.495301',\n",
      "  'todo': 'シャワーを浴びる',\n",
      "  'todo_id': 1,\n",
      "  'user_name': '太郎'},\n",
      " {'done': False,\n",
      "  'finish_datetime': None,\n",
      "  'register_datetime': '2021-10-03T14:43:18.371698',\n",
      "  'todo': 'シャワーを浴びる',\n",
      "  'todo_id': 3,\n",
      "  'user_name': '太郎'}]\n"
     ]
    }
   ],
   "source": [
    "pprint.pprint(r.json())"
   ]
  },
  {
   "cell_type": "markdown",
   "id": "4a324a17",
   "metadata": {},
   "source": [
    "## todocommentデータについて"
   ]
  },
  {
   "cell_type": "markdown",
   "id": "99c90d37",
   "metadata": {},
   "source": [
    "### データをinsert "
   ]
  },
  {
   "cell_type": "code",
   "execution_count": 22,
   "id": "629b3ef9",
   "metadata": {
    "ExecuteTime": {
     "end_time": "2021-10-03T14:51:24.597578Z",
     "start_time": "2021-10-03T14:51:19.914093Z"
    }
   },
   "outputs": [
    {
     "data": {
      "text/plain": [
       "<Response [200]>"
      ]
     },
     "execution_count": 22,
     "metadata": {},
     "output_type": "execute_result"
    }
   ],
   "source": [
    "upsert_comment_data = {\"todo_id\":3, \"comment_id\":3, \"comment\":\"お湯が熱すぎる\", \"user_name\":None, \"reply_id\": None}\n",
    "r = requests.post(\"http://localhost:8080/comment\", json=upsert_comment_data)\n",
    "r"
   ]
  },
  {
   "cell_type": "code",
   "execution_count": 23,
   "id": "dca964a9",
   "metadata": {
    "ExecuteTime": {
     "end_time": "2021-10-03T14:51:35.256073Z",
     "start_time": "2021-10-03T14:51:35.230144Z"
    }
   },
   "outputs": [
    {
     "name": "stdout",
     "output_type": "stream",
     "text": [
      "{'comments': [{'comment': '服が乾いていなかった',\n",
      "               'reply_id': None,\n",
      "               'timestamp': '2021-09-17T05:13:29.232737300',\n",
      "               'user_name': '太郎'},\n",
      "              {'comment': '服が破けている',\n",
      "               'reply_id': None,\n",
      "               'timestamp': '2021-09-17T05:17:10.865417200',\n",
      "               'user_name': '太郎'},\n",
      "              {'comment': 'お湯が熱すぎる',\n",
      "               'reply_id': None,\n",
      "               'timestamp': '2021-10-03T14:51:21.982358800',\n",
      "               'user_name': None}],\n",
      " 'todo_id': 3}\n"
     ]
    }
   ],
   "source": [
    "pprint.pprint(r.json())"
   ]
  },
  {
   "cell_type": "markdown",
   "id": "8a6fa94a",
   "metadata": {},
   "source": [
    "### データをupdate"
   ]
  },
  {
   "cell_type": "code",
   "execution_count": 24,
   "id": "d0d8186c",
   "metadata": {
    "ExecuteTime": {
     "end_time": "2021-10-03T14:51:50.036608Z",
     "start_time": "2021-10-03T14:51:47.940160Z"
    }
   },
   "outputs": [
    {
     "data": {
      "text/plain": [
       "<Response [200]>"
      ]
     },
     "execution_count": 24,
     "metadata": {},
     "output_type": "execute_result"
    }
   ],
   "source": [
    "update_comment_data = {\"todo_id\":2, \"comment_id\":1, \"comment\":\"お湯がぬるすぎる\", \"user_name\":\"太郎\", \"reply_id\": None}\n",
    "r = requests.put(\"http://localhost:8080/comment\", json=update_comment_data)\n",
    "r"
   ]
  },
  {
   "cell_type": "code",
   "execution_count": 25,
   "id": "425cffe4",
   "metadata": {
    "ExecuteTime": {
     "end_time": "2021-10-03T14:51:54.105680Z",
     "start_time": "2021-10-03T14:51:54.086728Z"
    }
   },
   "outputs": [
    {
     "name": "stdout",
     "output_type": "stream",
     "text": [
      "{'comments': [{'comment': 'お湯が熱すぎる',\n",
      "               'reply_id': None,\n",
      "               'timestamp': '2021-09-17T06:45:39.779342200',\n",
      "               'user_name': None},\n",
      "              {'comment': 'お湯がぬるすぎる',\n",
      "               'reply_id': None,\n",
      "               'timestamp': '2021-09-20T07:39:36.168156900',\n",
      "               'user_name': None},\n",
      "              {'comment': 'お湯が熱すぎる',\n",
      "               'reply_id': None,\n",
      "               'timestamp': '2021-09-20T08:11:44.500643300',\n",
      "               'user_name': None}],\n",
      " 'todo_id': 2}\n"
     ]
    }
   ],
   "source": [
    "pprint.pprint(r.json())"
   ]
  },
  {
   "cell_type": "markdown",
   "id": "e70f909d",
   "metadata": {},
   "source": [
    "### データをロード "
   ]
  },
  {
   "cell_type": "code",
   "execution_count": 26,
   "id": "eb2d2e6e",
   "metadata": {
    "ExecuteTime": {
     "end_time": "2021-10-03T14:52:01.458075Z",
     "start_time": "2021-10-03T14:51:59.353644Z"
    }
   },
   "outputs": [
    {
     "data": {
      "text/plain": [
       "<Response [200]>"
      ]
     },
     "execution_count": 26,
     "metadata": {},
     "output_type": "execute_result"
    }
   ],
   "source": [
    "r = requests.get(\"http://localhost:8080/comment?todo_ids=2,3\")\n",
    "r"
   ]
  },
  {
   "cell_type": "code",
   "execution_count": 27,
   "id": "0d5c3e82",
   "metadata": {
    "ExecuteTime": {
     "end_time": "2021-10-03T14:52:03.924426Z",
     "start_time": "2021-10-03T14:52:03.906472Z"
    }
   },
   "outputs": [
    {
     "name": "stdout",
     "output_type": "stream",
     "text": [
      "[{'todo_id': 2, 'comments': [{'comment': 'お湯が熱すぎる', 'user_name': None, 'reply_id': None, 'timestamp': '2021-09-17T06:45:39.779342200'}, {'comment': 'お湯がぬるすぎる', 'user_name': None, 'reply_id': None, 'timestamp': '2021-09-20T07:39:36.168156900'}, {'comment': 'お湯が熱すぎる', 'user_name': None, 'reply_id': None, 'timestamp': '2021-09-20T08:11:44.500643300'}]}, {'todo_id': 3, 'comments': [{'comment': '服が乾いていなかった', 'user_name': '太郎', 'reply_id': None, 'timestamp': '2021-09-17T05:13:29.232737300'}, {'comment': '服が破けている', 'user_name': '太郎', 'reply_id': None, 'timestamp': '2021-09-17T05:17:10.865417200'}, {'comment': 'お湯が熱すぎる', 'user_name': None, 'reply_id': None, 'timestamp': '2021-10-03T14:51:21.982358800'}]}]\n"
     ]
    }
   ],
   "source": [
    "print(r.json())"
   ]
  },
  {
   "cell_type": "code",
   "execution_count": 28,
   "id": "e8296a97",
   "metadata": {
    "ExecuteTime": {
     "end_time": "2021-10-03T14:52:10.529773Z",
     "start_time": "2021-10-03T14:52:08.460300Z"
    }
   },
   "outputs": [
    {
     "data": {
      "text/plain": [
       "<Response [200]>"
      ]
     },
     "execution_count": 28,
     "metadata": {},
     "output_type": "execute_result"
    }
   ],
   "source": [
    "r = requests.get(\"http://localhost:8080/comment/2\")\n",
    "r"
   ]
  },
  {
   "cell_type": "code",
   "execution_count": 29,
   "id": "9a423396",
   "metadata": {
    "ExecuteTime": {
     "end_time": "2021-10-03T14:52:12.461604Z",
     "start_time": "2021-10-03T14:52:12.443649Z"
    }
   },
   "outputs": [
    {
     "name": "stdout",
     "output_type": "stream",
     "text": [
      "[{'todo_id': 2, 'comments': [{'comment': 'お湯が熱すぎる', 'user_name': None, 'reply_id': None, 'timestamp': '2021-09-17T06:45:39.779342200'}, {'comment': 'お湯がぬるすぎる', 'user_name': None, 'reply_id': None, 'timestamp': '2021-09-20T07:39:36.168156900'}, {'comment': 'お湯が熱すぎる', 'user_name': None, 'reply_id': None, 'timestamp': '2021-09-20T08:11:44.500643300'}]}]\n"
     ]
    }
   ],
   "source": [
    "print(r.json())"
   ]
  },
  {
   "cell_type": "markdown",
   "id": "87ae273d",
   "metadata": {},
   "source": [
    "### データの削除 "
   ]
  },
  {
   "cell_type": "code",
   "execution_count": 30,
   "id": "89fd52f6",
   "metadata": {
    "ExecuteTime": {
     "end_time": "2021-10-03T14:52:18.230177Z",
     "start_time": "2021-10-03T14:52:16.150737Z"
    }
   },
   "outputs": [
    {
     "data": {
      "text/plain": [
       "<Response [200]>"
      ]
     },
     "execution_count": 30,
     "metadata": {},
     "output_type": "execute_result"
    }
   ],
   "source": [
    "r = requests.delete(\"http://localhost:8080/comment/3/0\")\n",
    "r"
   ]
  },
  {
   "cell_type": "code",
   "execution_count": null,
   "id": "3c178b08",
   "metadata": {},
   "outputs": [],
   "source": []
  }
 ],
 "metadata": {
  "kernelspec": {
   "display_name": "calc_py39",
   "language": "python",
   "name": "calc_py39"
  },
  "language_info": {
   "codemirror_mode": {
    "name": "ipython",
    "version": 3
   },
   "file_extension": ".py",
   "mimetype": "text/x-python",
   "name": "python",
   "nbconvert_exporter": "python",
   "pygments_lexer": "ipython3",
   "version": "3.9.5"
  },
  "toc": {
   "base_numbering": 1,
   "nav_menu": {},
   "number_sections": true,
   "sideBar": true,
   "skip_h1_title": true,
   "title_cell": "Table of Contents",
   "title_sidebar": "Contents",
   "toc_cell": false,
   "toc_position": {
    "height": "calc(100% - 180px)",
    "left": "10px",
    "top": "150px",
    "width": "229.594px"
   },
   "toc_section_display": true,
   "toc_window_display": false
  }
 },
 "nbformat": 4,
 "nbformat_minor": 5
}
